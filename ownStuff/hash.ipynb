{
 "cells": [
  {
   "cell_type": "markdown",
   "id": "763a60f8",
   "metadata": {},
   "source": [
    "## Hash Tables:\n",
    "\n",
    "#### Hash Functions, Sets & Maps\n",
    "\n",
    " **Time Complexity of Hash Table Operations**\n",
    "Hash tables are renowned for their efficient average-case performance. Here's a breakdown of the time complexities for fundamental operations:\n",
    "\n",
    "| Operation | Average Case | Worst Case |\n",
    "|-----------|--------------|------------|\n",
    "| Insert    | O(1)         | O(n)       |\n",
    "| Search    | O(1)         | O(n)       |\n",
    "| Delete    | O(1)         | O(n)       |\n",
    "\n",
    "**Average Case (O(1)):** With a well-designed hash function and a balanced load factor, operations like insertion, search, and deletion can be performed in constant time. This efficiency arises because the hash function distributes elements uniformly across the table, minimizing collisions.\n",
    "\n",
    "**Worst Case (O(n)):** In scenarios where many elements hash to the same index (high collision rate), operations may degrade to linear time. This situation can occur due to poor hash functions or when the table becomes too full, leading to longer chains or probe sequences during collision resolution.\n",
    "\n",
    " **Python's `set` and `dict` Implementations**\n",
    "\n",
    "In Python:\n",
    "\n",
    "* **`set`**: Implemented using hash tables, sets store unordered collections of unique elements. Operations like `add`, `remove`, and membership tests (`in`) typically have **O(1)** average-case time complexity.\n",
    "* **`dict`**: Dictionaries are also built on hash tables, mapping unique keys to values. Common operations such as key insertion, deletion, and lookup are designed to execute in **O(1)** average time.\n",
    "\n",
    " **Factors Influencing Performance**\n",
    "\n",
    "Several factors can affect the performance of hash tables:\n",
    "\n",
    "* **Hash Function Quality:** A good hash function distributes keys uniformly, reducing the likelihood of collisions. Poor hash functions can lead to clustering, increasing the time complexity of operations.\n",
    "* **Load Factor:** This is the ratio of the number of elements to the number of buckets in the table. A high load factor increases the chance of collisions. To maintain efficiency, hash tables often resize (rehash) when the load factor exceeds a certain threshold.\n",
    "* **Collision Resolution Strategy:** Techniques like chaining (using linked lists) or open addressing (probing) handle collisions differently, impacting performance. For instance, open addressing can suffer from clustering, while chaining's performance depends on the length of the chains.\n",
    "\n",
    " **Summary**\n",
    "\n",
    "Hash tables provide efficient average-case performance for insertion, deletion, and search operations, making them a cornerstone of many programming languages, including Python. Understanding their underlying mechanics, such as hash functions and collision resolution strategies, is crucial for optimizing performance and ensuring scalability in applications."
   ]
  },
  {
   "cell_type": "code",
   "execution_count": null,
   "id": "79ecaf2b",
   "metadata": {},
   "outputs": [
    {
     "name": "stdout",
     "output_type": "stream",
     "text": [
      "set()\n",
      "{1, 2, 3}\n"
     ]
    }
   ],
   "source": [
    "# Hashsets\n",
    "\n",
    "s = set()\n",
    "print(s)\n",
    "\n",
    "# Add item into set - O(1)\n",
    "s.add(1)\n",
    "s.add(2)\n",
    "s.add(3)\n",
    "\n",
    "print(s)\n",
    "\n",
    "# Lookup if item in set - O(1)\n",
    "if 1 in s:\n",
    "    print(True)"
   ]
  }
 ],
 "metadata": {
  "kernelspec": {
   "display_name": ".venv",
   "language": "python",
   "name": "python3"
  },
  "language_info": {
   "codemirror_mode": {
    "name": "ipython",
    "version": 3
   },
   "file_extension": ".py",
   "mimetype": "text/x-python",
   "name": "python",
   "nbconvert_exporter": "python",
   "pygments_lexer": "ipython3",
   "version": "3.13.2"
  }
 },
 "nbformat": 4,
 "nbformat_minor": 5
}
