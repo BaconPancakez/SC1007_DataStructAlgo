{
 "cells": [
  {
   "cell_type": "markdown",
   "id": "0cbb5b50",
   "metadata": {},
   "source": [
    "### Data Structures - Time Complexity of Common Operations\n",
    "\n",
    "| Operation               | Array/List | String(Immutable)  | Useful Information                                                                                                                                                                                                                                                                                                                                                                                                                                                                                    |\n",
    "|-------------------------|------------|---------|-----------------------------------------------------------------------------------------------------------------------------------------------------------------------------------------------------------------------------------------------------------------------------------------------------------------------------------------------------------------------------------------------------------------------------------------------------------------------------------------------------|\n",
    "| Appending to the end    | O(1)       | O(n)    | **Array/List:** Typically O(1) on average due to dynamic resizing. While resizing can take O(n), it happens infrequently. <br> **String:** In many programming languages, strings are immutable. Appending creates a new string, which involves copying the original string (O(n)). Some languages might have optimized string builders for more efficient appending.                                                                                                                             |\n",
    "| Popping from end        | O(1)       | O(n)    | **Array/List:** Removing the last element is generally a constant-time operation. <br> **String:** Similar to appending, removing the last character often involves creating a new string (O(n)) as strings are immutable.                                                                                                                                                                                                                                                                           |\n",
    "| Insertion, not from end | O(n)       | O(n)    | **Array/List:** Inserting at an arbitrary position requires shifting subsequent elements to make space, resulting in O(n) time complexity in the worst case (insertion at the beginning). <br> **String:** Inserting in the middle of a string usually involves creating a new string by concatenating the parts before and after the insertion, which takes O(n) time as you need to copy the existing characters.                                                                              |\n",
    "| Deletion, not from end       | O(n)       | O(n)    | **Array/List:** Deleting an element at an arbitrary position requires shifting subsequent elements to fill the gap, resulting in O(n) time complexity in the worst case (deletion at the beginning). <br> **String:** Deleting from the middle of a string typically involves creating a new string by concatenating the parts before and after the deletion, taking O(n) time due to the need to copy the remaining characters.                                                                        |\n",
    "| Random Access           | O(1)       | O(1)    | **Array/List:** Arrays and Lists provide direct access to elements based on their index. This is a constant-time operation because the memory location of any element can be calculated directly from the starting address and the index. <br> **String:** Strings also allow direct access to individual characters by their index, similar to arrays, making it an O(1) operation.                                                                                                                   |\n",
    "| Check if element exist  | O(n)       | O(n)    | **Array/List:** To check if a specific element exists, you typically need to iterate through the array or list, comparing each element until you find a match or reach the end. In the worst case, you might need to check all n elements. <br> **String:** To check if a specific character or substring exists, you might need to iterate through the string or use string searching algorithms. In the simplest case of checking for a single character, it might involve iterating through the string in the worst case. |"
   ]
  },
  {
   "cell_type": "code",
   "execution_count": 18,
   "id": "6c8bd787",
   "metadata": {},
   "outputs": [
    {
     "name": "stdout",
     "output_type": "stream",
     "text": [
      "[1, 2, 3]\n",
      "[1, 2, 3, 5]\n",
      "[1, 2, 3]\n",
      "[1, 2, 5, 3]\n",
      "[1, 2, 5]\n",
      "[7, 2, 5]\n",
      "5\n",
      "True\n"
     ]
    }
   ],
   "source": [
    "A = [1,2,3]\n",
    "print(A)\n",
    "\n",
    "# Append - Insert element at end of array - On average: O(1)\n",
    "A.append(5)\n",
    "print(A)\n",
    "\n",
    "# Pop - delete element at end of array - On average: O(1)\n",
    "A.pop()\n",
    "print(A)\n",
    "\n",
    "# Insert (not at end of array) - O(n)\n",
    "A.insert(2, 5)\n",
    "print(A)\n",
    "\n",
    "# Remove (not at end of array) - O(n)\n",
    "A.remove(3)\n",
    "print(A)\n",
    "\n",
    "# Modify an element - O(1)\n",
    "A[0] = 7\n",
    "print(A)\n",
    "\n",
    "# Accessing element given index i - O(1)\n",
    "print(A[2])\n",
    "\n",
    "# Check if element in array - O(n)\n",
    "if 7 in A:\n",
    "    print(True)"
   ]
  },
  {
   "cell_type": "code",
   "execution_count": null,
   "id": "806599b8",
   "metadata": {},
   "outputs": [
    {
     "name": "stdout",
     "output_type": "stream",
     "text": [
      "helloz\n",
      "True\n"
     ]
    }
   ],
   "source": [
    "# Strings\n",
    "\n",
    "# Append to end of String - O(n)\n",
    "s = 'hello'\n",
    "b = s + 'z'\n",
    "print(b)\n",
    "\n",
    "# check if something is in string = O(n)\n",
    "if 'e' in s:\n",
    "    print(True)\n",
    "\n",
    "# Access positions - O(1)\n",
    "print(s[2])"
   ]
  }
 ],
 "metadata": {
  "kernelspec": {
   "display_name": "Python 3",
   "language": "python",
   "name": "python3"
  },
  "language_info": {
   "codemirror_mode": {
    "name": "ipython",
    "version": 3
   },
   "file_extension": ".py",
   "mimetype": "text/x-python",
   "name": "python",
   "nbconvert_exporter": "python",
   "pygments_lexer": "ipython3",
   "version": "3.12.5"
  }
 },
 "nbformat": 4,
 "nbformat_minor": 5
}
