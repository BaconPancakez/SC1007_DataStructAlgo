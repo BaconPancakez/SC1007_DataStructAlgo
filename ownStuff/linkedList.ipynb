{
 "cells": [
  {
   "cell_type": "markdown",
   "id": "7c998134",
   "metadata": {},
   "source": [
    "## Linked Lists\n",
    "\n",
    "#### Singly Linked Lists & Doubly Linked Lists\n",
    "\n",
    "| Operation                              | Time complexity |\n",
    "|---------------------------------------|-----------------|\n",
    "| Insert node into LL (mid to end)      | O(n)            |\n",
    "| Delete node from LL (mid to end)      | O(n)            |\n",
    "| Access Node from LL                   | O(n)            |\n",
    "| Look up if val exist                  | O(n)            |\n",
    "| Remove node from the front             | O(1)            |\n",
    "| Add node to the front                | O(1)            |\n",
    "\n",
    "**Explanation of Linked List Time Complexities:**\n",
    "\n",
    "* **Insert node into LL (mid to end): O(n)** - To insert a node in the middle or at the end of a linked list, you generally need to traverse the list from the head until you reach the desired position. In the worst case (inserting at the very end), you might have to traverse all `n` nodes.\n",
    "* **Delete node from LL (mid to end): O(n)** - Similar to insertion, deleting a node from the middle or end requires traversing the list to find the node to be deleted and the node before it (for Singly Linked Lists). This takes O(n) time in the worst case.\n",
    "* **Access Node from LL: O(n)** - To access a specific node in a linked list (by its position or index), you need to start from the head and traverse the list sequentially until you reach the desired node. In the worst case (accessing the last node), you'll have to traverse all `n` nodes.\n",
    "* **Look up if val exist: O(n)** - To check if a specific value exists in a linked list, you need to iterate through the list and compare the value of each node. In the worst case, the value might not exist or be at the very end, requiring you to check all `n` nodes.\n",
    "* **Remove node from the front: O(1)** - Removing the first node (head) in a linked list involves simply updating the head pointer to the next node. This operation takes constant time, regardless of the list's size.\n",
    "* **Add node to the front: O(1)** - Adding a new node at the beginning (making it the new head) involves creating the new node, pointing its `next` pointer to the current head, and then updating the head pointer to the new node. This is a constant-time operation.\n",
    "\n",
    "**Note on Doubly Linked Lists:**\n",
    "\n",
    "For some operations, Doubly Linked Lists can offer advantages:\n",
    "\n",
    "* **Deleting a node (given the node itself):** In a Doubly Linked List, if you already have a pointer to the node you want to delete, the deletion can be done in O(1) time because you have access to both the previous and the next nodes directly. In a Singly Linked List, you would need to traverse to the node *before* the one you want to delete.\n",
    "* **Traversal in both directions:** Doubly Linked Lists allow traversal in both forward and backward directions, which can be useful for certain algorithms.\n",
    "\n",
    "However, for the operations listed in the table, the general time complexities remain the same for both Singly and Doubly Linked Lists when considering the need to traverse to a specific position."
   ]
  },
  {
   "cell_type": "code",
   "execution_count": 22,
   "id": "efb7a06f",
   "metadata": {},
   "outputs": [
    {
     "name": "stdout",
     "output_type": "stream",
     "text": [
      "1\n",
      "1 2 3 4 \n",
      "1 -> 2 -> 3 -> 4\n"
     ]
    },
    {
     "data": {
      "text/plain": [
       "True"
      ]
     },
     "execution_count": 22,
     "metadata": {},
     "output_type": "execute_result"
    }
   ],
   "source": [
    "class Node:\n",
    "    def __init__(self, data, next = None):\n",
    "        self.data = data\n",
    "        self.next = next\n",
    "\n",
    "    def __str__(self):\n",
    "        return str(self.data)\n",
    "    \n",
    "Head = Node(1)\n",
    "A = Node(2)\n",
    "B = Node(3)\n",
    "C = Node(4)\n",
    "\n",
    "Head.next = A\n",
    "A.next = B\n",
    "B.next = C\n",
    "\n",
    "print(Head)\n",
    "\n",
    "# Traverse the list - O(n)\n",
    "curr = Head\n",
    "while curr:\n",
    "    print(curr, end = ' ')\n",
    "    curr = curr.next\n",
    "\n",
    "print()\n",
    "\n",
    "# Display Linked List - O(n)\n",
    "def display(head):\n",
    "    curr = head\n",
    "    elements = []\n",
    "    while curr:\n",
    "        elements.append(str(curr.data))\n",
    "        curr = curr.next\n",
    "    print(' -> '.join(elements))\n",
    "\n",
    "display(Head)\n",
    "\n",
    "# Search for node value - O(n)\n",
    "def search(head, val):\n",
    "    curr = head\n",
    "    while curr:\n",
    "        if val == curr.data:\n",
    "            return True\n",
    "        curr = curr.next\n",
    "    return False\n",
    "\n",
    "search(Head, 2)\n"
   ]
  },
  {
   "cell_type": "code",
   "execution_count": null,
   "id": "b8cea627",
   "metadata": {},
   "outputs": [
    {
     "name": "stdout",
     "output_type": "stream",
     "text": [
      "1\n",
      "3 <-> 1\n"
     ]
    },
    {
     "ename": "TypeError",
     "evalue": "Node.__init__() got an unexpected keyword argument 'prev'",
     "output_type": "error",
     "traceback": [
      "\u001b[0;31m---------------------------------------------------------------------------\u001b[0m",
      "\u001b[0;31mTypeError\u001b[0m                                 Traceback (most recent call last)",
      "Cell \u001b[0;32mIn[27], line 41\u001b[0m\n\u001b[1;32m     38\u001b[0m     head\u001b[38;5;241m.\u001b[39mnext \u001b[38;5;241m=\u001b[39m new_node\n\u001b[1;32m     39\u001b[0m     \u001b[38;5;28;01mreturn\u001b[39;00m head, new_node\n\u001b[0;32m---> 41\u001b[0m head, tail \u001b[38;5;241m=\u001b[39m \u001b[43minsertEnd\u001b[49m\u001b[43m(\u001b[49m\u001b[43mhead\u001b[49m\u001b[43m,\u001b[49m\u001b[43mtail\u001b[49m\u001b[43m,\u001b[49m\u001b[38;5;241;43m5\u001b[39;49m\u001b[43m)\u001b[49m\n\u001b[1;32m     42\u001b[0m display(head)\n",
      "Cell \u001b[0;32mIn[27], line 37\u001b[0m, in \u001b[0;36minsertEnd\u001b[0;34m(head, tail, val)\u001b[0m\n\u001b[1;32m     36\u001b[0m \u001b[38;5;28;01mdef\u001b[39;00m \u001b[38;5;21minsertEnd\u001b[39m(head, tail, val):\n\u001b[0;32m---> 37\u001b[0m     new_node \u001b[38;5;241m=\u001b[39m \u001b[43mNode\u001b[49m\u001b[43m(\u001b[49m\u001b[43mval\u001b[49m\u001b[43m,\u001b[49m\u001b[43mprev\u001b[49m\u001b[38;5;241;43m=\u001b[39;49m\u001b[43mtail\u001b[49m\u001b[43m)\u001b[49m\n\u001b[1;32m     38\u001b[0m     head\u001b[38;5;241m.\u001b[39mnext \u001b[38;5;241m=\u001b[39m new_node\n\u001b[1;32m     39\u001b[0m     \u001b[38;5;28;01mreturn\u001b[39;00m head, new_node\n",
      "\u001b[0;31mTypeError\u001b[0m: Node.__init__() got an unexpected keyword argument 'prev'"
     ]
    }
   ],
   "source": [
    "class Node:\n",
    "    def __init__(self, data, next = None, Prev = None):\n",
    "        self.data = data\n",
    "        self.next = next\n",
    "        self.prev = Prev\n",
    "\n",
    "    def __str__(self):\n",
    "        return str(self.data)\n",
    "    \n",
    "\n",
    "head = tail = Node(1)\n",
    "\n",
    "#Display - O(n)\n",
    "def display(head):\n",
    "    curr = head\n",
    "    elements = []\n",
    "    while curr:\n",
    "        elements.append(str(curr.data))\n",
    "        curr = curr.next\n",
    "    \n",
    "    print(' <-> '.join(elements))\n",
    "    \n",
    "\n",
    "display(head)\n",
    "\n",
    "# Insert at beginning - O(1)\n",
    "def insertFront(head, tail, val):\n",
    "    new_node = Node(val,next=head)\n",
    "    head.prev = new_node\n",
    "    return new_node, tail\n",
    "\n",
    "head,tail = insertFront(head,tail,3)\n",
    "display(head)\n",
    "\n",
    "# Insert at end - O(1)\n",
    "def insertEnd(head, tail, val):\n",
    "    new_node = Node(val,prev=tail)\n",
    "    head.next = new_node\n",
    "    return head, new_node\n",
    "\n",
    "head, tail = insertEnd(head,tail,5)\n",
    "display(head)"
   ]
  }
 ],
 "metadata": {
  "kernelspec": {
   "display_name": "Python 3",
   "language": "python",
   "name": "python3"
  },
  "language_info": {
   "codemirror_mode": {
    "name": "ipython",
    "version": 3
   },
   "file_extension": ".py",
   "mimetype": "text/x-python",
   "name": "python",
   "nbconvert_exporter": "python",
   "pygments_lexer": "ipython3",
   "version": "3.12.5"
  }
 },
 "nbformat": 4,
 "nbformat_minor": 5
}
