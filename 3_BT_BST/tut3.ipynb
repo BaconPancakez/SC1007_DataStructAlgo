{
 "cells": [
  {
   "cell_type": "markdown",
   "metadata": {},
   "source": [
    "You are given a pre-order traversal and an inorder traversal of a binary tree. Draw the binary tree from the two traversal results.\n",
    "    \n",
    "- pre-order: A, B, C, D, E, F, G\n",
    "    - Root → Left subtree → RIght Subtree\n",
    "- inorder: C, B, E, D, A, F, G\n",
    "    - Left SubTree → Root → Right SubTree"
   ]
  },
  {
   "cell_type": "markdown",
   "metadata": {},
   "source": [
    "        A\n",
    "       / \\\n",
    "      B   F\n",
    "     / \\   \\\n",
    "    C   D   F\n",
    "\t   / \n",
    "      E\n"
   ]
  },
  {
   "cell_type": "markdown",
   "metadata": {},
   "source": [
    "##### (levelOrderTraversal) \n",
    "Write an iterative function levelOrderIterative() that prints a level-by-level traversal of the binary search tree using a queue, starting at the root node level.\n",
    "\n",
    "The function uses only enqueue() or dequeue() operations to add or remove nodes from the queue. Ensure the queue is empty at the beginning of the traversal.\n",
    "\n",
    "The function prototype is given as follows:\n",
    "\n",
    "def levelOrderIterative(root):\n",
    "\n",
    "Following is the detailed algorithm:\n",
    "1) Create an empty queue q\n",
    "2) If tree is not empty, then Enqueue root to the Queue\n",
    "3) Repeat until Queue is empty\n",
    "    <br>3.1) Dequeue node’s data from the queue and print it\n",
    "    <br>3.2) Enqueue node’s left child to the q\n",
    "    <br>3.3) Enqueue node’s right child to the q \n",
    "<div style=\"max-width:500px;margin-right: auto; margin-right: 0;\">\n",
    "    \n",
    "![image.png](attachment:193ed9f1-3892-4fc5-b97a-d7d315b61e53.png)\n",
    "    \n",
    "</div>"
   ]
  }
 ],
 "metadata": {
  "kernelspec": {
   "display_name": ".venv",
   "language": "python",
   "name": "python3"
  },
  "language_info": {
   "name": "python",
   "version": "3.13.2"
  }
 },
 "nbformat": 4,
 "nbformat_minor": 2
}
