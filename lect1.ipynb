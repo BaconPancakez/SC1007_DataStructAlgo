{
 "cells": [
  {
   "cell_type": "code",
   "execution_count": 1,
   "metadata": {},
   "outputs": [
    {
     "name": "stdout",
     "output_type": "stream",
     "text": [
      "After creating x: 1 reference(s)\n",
      "After creating y: 2 reference(s)\n",
      "After creating z: 3 reference(s)\n",
      "After deleting x: 2 reference(s)\n",
      "After deleting y: 1 reference(s)\n"
     ]
    }
   ],
   "source": [
    "# Import sys module to access system-specific functions\n",
    "import sys                   \n",
    "\n",
    "x = [1, 2, 3]   \n",
    "\n",
    "# Print current reference count minus 1 (to account for getrefcount's temporary reference)\n",
    "print(f\"After creating x: {sys.getrefcount(x) - 1} reference(s)\")  \n",
    "\n",
    "y = x                       # Create second reference 'y' pointing to same list object\n",
    "print(f\"After creating y: {sys.getrefcount(x) - 1} reference(s)\")  # Print updated reference count with two references\n",
    "\n",
    "z = x                       # Create third reference 'z' pointing to same list object  \n",
    "print(f\"After creating z: {sys.getrefcount(x) - 1} reference(s)\")  # Print reference count now showing three references\n",
    "\n",
    "del x                       # Delete first reference 'x', reducing reference count by 1\n",
    "print(f\"After deleting x: {sys.getrefcount(y) - 1} reference(s)\")  # Print reference count showing two remaining references\n",
    "\n",
    "del y                       # Delete second reference 'y', reducing count further\n",
    "print(f\"After deleting y: {sys.getrefcount(z) - 1} reference(s)\")  # Print reference count showing one final reference\n",
    "\n",
    "del z                       # Delete final reference 'z', object now has no references\n",
    "\n",
    "# Cannot print count here as no references exist to check   # Object now eligible for garbage collection since reference count is 0\n",
    "# Cannot print reference count here because:\n",
    "# 1. After del z, we have no variable name to reference the object\n",
    "# 2. sys.getrefcount() needs a reference to an object to check its count\n",
    "# 3. The object [1, 2, 3] is now eligible for garbage collection since no references exist\n",
    "# print(sys.getrefcount(z)) would raise a NameError: name 'z' is not defined"
   ]
  },
  {
   "cell_type": "code",
   "execution_count": 17,
   "metadata": {},
   "outputs": [
    {
     "name": "stdout",
     "output_type": "stream",
     "text": [
      "Before: x = 42, y = 42\n",
      "Before: id(x) = 4351111104, id(y) = 4351111104\n",
      "\n",
      "After: x = 43, y = 42\n",
      "After: id(x) = 4351111136, id(y) = 4351111104\n",
      "\n",
      "--------------------\n",
      "\n",
      "Initially both strings same: id(s1) = 4385028304, id(s2) = 4385028304\n",
      "After change: id(s1) = 4392699728, id(s2) = 4385028304\n",
      "\n",
      "---------------------\n",
      "\n",
      "before: list1 = 4391669952, list2 = 4391669952\n",
      "Before: list1 = [1, 2, 3], list2 = [1, 2, 3]\n",
      "\n",
      "after: list1 = 4391669952, list2 = 4391669952\n",
      "after: list1 = [1, 2, 3, 4], list2 = [1, 2, 3, 4]\n",
      "\n",
      "after: list1 = 4391669952, list2 = 4351095760\n",
      "after: list1 = [1, 2, 3, 4, 5], list2 = None\n"
     ]
    }
   ],
   "source": [
    "# Integer immutability\n",
    "x = 42 \n",
    "y = x\n",
    "print(f\"Before: x = {x}, y = {y}\")\n",
    "print(f\"Before: id(x) = {id(x)}, id(y) = {id(y)}\")\n",
    "\n",
    "x += 1  # x becomes 43, y stays 42\n",
    "print(f\"\\nAfter: x = {x}, y = {y}\")\n",
    "print(f\"After: id(x) = {id(x)}, id(y) = {id(y)}\")\n",
    "\n",
    "# String immutability\n",
    "print(\"\\n\" + \"-\" * 20 + \"\\n\")\n",
    "\n",
    "s1 = \"hello\"\n",
    "s2 = \"hello\"\n",
    "print(f\"Initially both strings same: id(s1) = {id(s1)}, id(s2) = {id(s2)}\")\n",
    "\n",
    "s1 = \"hello!\"  # Creates new string\n",
    "print(f\"After change: id(s1) = {id(s1)}, id(s2) = {id(s2)}\")\n",
    "\n",
    "print(\"\\n---------------------\\n\")\n",
    "# List immutability\n",
    "list1 = [1,2,3]\n",
    "list2 = list1\n",
    "print(f\"before: list1 = {id(list1)}, list2 = {id(list2)}\")\n",
    "print(f\"Before: list1 = {list1}, list2 = {list2}\\n\")\n",
    "\n",
    "list1.append(4)\n",
    "print(f\"after: list1 = {id(list1)}, list2 = {id(list2)}\")\n",
    "print(f\"after: list1 = {list1}, list2 = {list2}\\n\")\n",
    "\n",
    "list2 = list1.append(5)\n",
    "print(f\"after: list1 = {id(list1)}, list2 = {id(list2)}\")\n",
    "print(f\"after: list1 = {list1}, list2 = {list2}\")\n"
   ]
  },
  {
   "cell_type": "code",
   "execution_count": 1,
   "metadata": {},
   "outputs": [
    {
     "name": "stdout",
     "output_type": "stream",
     "text": [
      "Initial garbage count: (1134, 0, 6)\n",
      "\n",
      "After creating lists garbage count: (1130, 0, 6)\n",
      "\n",
      "After circular reference garbage count: (1130, 0, 6)\n",
      "list1: [1, 2, 3, [4, 5, 6, [...]]]\n",
      "list2: [4, 5, 6, [1, 2, 3, [...]]]\n",
      "\n",
      "After deletion garbage count: (1130, 0, 6)\n",
      "\n",
      "Garbage collector collected 25 objects.\n",
      "Final garbage count: (55, 0, 0)\n"
     ]
    }
   ],
   "source": [
    "# Import garbage collector module for manual collection\n",
    "import gc\n",
    "\n",
    "print(\"Initial garbage count:\", gc.get_count())  \n",
    "# Shows (gen0, gen1, gen2) counts before creating lists\n",
    "\n",
    "# Create two lists\n",
    "list1 = [1, 2, 3]\n",
    "list2 = [4, 5, 6]\n",
    "print(\"\\nAfter creating lists garbage count:\", gc.get_count())\n",
    "# Count increases as new objects created\n",
    "\n",
    "# Create circular reference\n",
    "list1.append(list2)    # list1 now contains [1, 2, 3, [4, 5, 6]]\n",
    "list2.append(list1)    # list2 now contains [4, 5, 6, [1, 2, 3, [...]]]\n",
    "print(\"\\nAfter circular reference garbage count:\", gc.get_count())\n",
    "print(\"list1:\", list1)\n",
    "print(\"list2:\", list2)\n",
    "\n",
    "# Remove direct references\n",
    "del list1  # Deleting reference but objects still exist\n",
    "del list2  # Due to circular reference\n",
    "print(\"\\nAfter deletion garbage count:\", gc.get_count())\n",
    "# Objects still in memory due to circular reference\n",
    "\n",
    "# Force garbage collection\n",
    "collected = gc.collect()  # Returns number of objects collected\n",
    "print(\"\\nGarbage collector collected\", collected, \"objects.\")\n",
    "print(\"Final garbage count:\", gc.get_count())\n",
    "# Final count explanation:\n",
    "# - 41 (or other numver) objects in gen0 are Python's internal objects\n",
    "#   These include:\n",
    "#   - Frame objects for function calls\n",
    "#   - Temporary objects from print statements\n",
    "#   - Internal references for Python's runtime\n",
    "#   - System-level temporary objects\n",
    "# - 0 in gen1 means all middle-aged objects collected\n",
    "# - 0 in gen2 means all old objects and circular references collected"
   ]
  },
  {
   "cell_type": "code",
   "execution_count": 2,
   "metadata": {},
   "outputs": [
    {
     "name": "stdout",
     "output_type": "stream",
     "text": [
      "Integer Memory Pooling:\n",
      "a = 100, b = 100\n",
      "Are a and b same object? True\n",
      "Memory location of a: 4324292352\n",
      "Memory location of b: 4324292352\n",
      "\n",
      "String Memory Pooling (String Interning):\n",
      "str1 = hello, str2 = hello\n",
      "Are str1 and str2 same object? True\n",
      "Memory location of str1: 4359878048\n",
      "Memory location of str2: 4359878048\n",
      "\n",
      "No Pooling Examples:\n",
      "x = 257, y = 257\n",
      "Are large integers (257) pooled? False\n",
      "str3 = hello world!, str4 = hello world!\n",
      "Are longer strings pooled? False\n"
     ]
    }
   ],
   "source": [
    "# Memory Pooling Example\n",
    "print(\"Integer Memory Pooling:\")\n",
    "# Python reuses integers between -5 and 256\n",
    "a = 100\n",
    "b = 100\n",
    "print(f\"a = {a}, b = {b}\")\n",
    "print(f\"Are a and b same object? {a is b}\")  # True - same object reused\n",
    "print(f\"Memory location of a: {id(a)}\")\n",
    "print(f\"Memory location of b: {id(b)}\")  # Same as a's location\n",
    "\n",
    "print(\"\\nString Memory Pooling (String Interning):\")\n",
    "# Python interns (reuses) short strings\n",
    "str1 = \"hello\"\n",
    "str2 = \"hello\"\n",
    "print(f\"str1 = {str1}, str2 = {str2}\")\n",
    "print(f\"Are str1 and str2 same object? {str1 is str2}\")  # True - same string reused\n",
    "print(f\"Memory location of str1: {id(str1)}\")\n",
    "print(f\"Memory location of str2: {id(str2)}\")  # Same as str1's location\n",
    "\n",
    "# Counter examples (no pooling)\n",
    "print(\"\\nNo Pooling Examples:\")\n",
    "# Large integers aren't pooled\n",
    "x = 257\n",
    "y = 257\n",
    "print(f\"x = {y}, y = {y}\")\n",
    "print(f\"Are large integers (257) pooled? {x is y}\")  # False - separate objects\n",
    "\n",
    "# Long or complex strings aren't automatically pooled\n",
    "str3 = \"hello world!\"\n",
    "str4 = \"hello world!\"\n",
    "print(f\"str3 = {str3}, str4 = {str4}\")\n",
    "print(f\"Are longer strings pooled? {str3 is str4}\")  # False - separate objects"
   ]
  },
  {
   "cell_type": "code",
   "execution_count": 3,
   "metadata": {},
   "outputs": [
    {
     "name": "stdout",
     "output_type": "stream",
     "text": [
      "Without Manual Interning:\n",
      "Memory location of c: 4415529776\n",
      "Memory location of d: 4415532720\n",
      "Are c and d the same object? False\n",
      "Do c and d have same value? True\n",
      "\n",
      "With Manual Interning using sys.intern():\n",
      "Memory location of e: 4415521968\n",
      "Memory location of f: 4415521968\n",
      "Are e and f the same object? True\n",
      "Do e and f have same value? True\n"
     ]
    }
   ],
   "source": [
    "# Memory Interning Example\n",
    "import sys\n",
    "\n",
    "# Demonstrate automatic vs manual string interning\n",
    "print(\"Without Manual Interning:\")\n",
    "# Longer strings - Python doesn't automatically intern them\n",
    "c = \"hello world!\"\n",
    "d = \"hello world!\"\n",
    "\n",
    "print(f\"Memory location of c: {id(c)}\")  # First memory location\n",
    "print(f\"Memory location of d: {id(d)}\")  # Different memory location\n",
    "print(f\"Are c and d the same object? {c is d}\")  # False - different objects\n",
    "print(f\"Do c and d have same value? {c == d}\")   # True - same value, different objects\n",
    "\n",
    "print(\"\\nWith Manual Interning using sys.intern():\")\n",
    "# Manually intern longer strings to force memory sharing\n",
    "e = sys.intern(\"hello world!\")\n",
    "f = sys.intern(\"hello world!\")\n",
    "\n",
    "print(f\"Memory location of e: {id(e)}\")  # First memory location\n",
    "print(f\"Memory location of f: {id(f)}\")  # Same memory location as e\n",
    "print(f\"Are e and f the same object? {e is f}\")  # True - same object due to interning\n",
    "print(f\"Do e and f have same value? {e == f}\")   # True - same value"
   ]
  },
  {
   "cell_type": "code",
   "execution_count": 4,
   "metadata": {},
   "outputs": [
    {
     "name": "stdout",
     "output_type": "stream",
     "text": [
      "Reference count Before: 1\n",
      "Reference count after: 1\n",
      "Accessing function through weak reference: Hello\n",
      "Weak reference after deletion: None\n"
     ]
    }
   ],
   "source": [
    "import weakref\n",
    "import sys  # To check the reference count\n",
    "\n",
    "def my_function():\n",
    "    return \"Hello\"\n",
    "\n",
    "# Check the reference count before creating a weak reference\n",
    "print(f\"Reference count Before: {sys.getrefcount(my_function) - 1}\")\n",
    "\n",
    "# Create a weak reference to the function\n",
    "weak_ref = weakref.ref(my_function)\n",
    "\n",
    "# Check the reference count after creating a weak reference\n",
    "print(f\"Reference count after: {sys.getrefcount(my_function) - 1}\")\n",
    "\n",
    "# Access the function through the weak reference and call it\n",
    "print(f\"Accessing function through weak reference: {weak_ref()()}\")  # Prints: Hello\n",
    "\n",
    "# Delete the original reference to the function\n",
    "del my_function\n",
    "\n",
    "# Check the weak reference after the original function is deleted\n",
    "print(f\"Weak reference after deletion: {weak_ref()}\")  # Prints: None\n"
   ]
  },
  {
   "cell_type": "code",
   "execution_count": 5,
   "metadata": {},
   "outputs": [
    {
     "name": "stdout",
     "output_type": "stream",
     "text": [
      "Automatic garbage collection disabled.\n",
      "Garbage collection manually triggered and circular references cleaned up.\n",
      "Automatic garbage collection re-enabled.\n"
     ]
    }
   ],
   "source": [
    "# Import garbage collector module\n",
    "import gc\n",
    "\n",
    "# Disable automatic garbage collection\n",
    "gc.disable()\n",
    "print(\"Automatic garbage collection disabled.\")\n",
    "\n",
    "# Create objects with circular references\n",
    "list1 = [1, 2, 3]\n",
    "list2 = [4, 5, 6]\n",
    "list1.append(list2)  # list1 references list2\n",
    "list2.append(list1)  # list2 references list1\n",
    "\n",
    "# Remove references\n",
    "del list1  # Reference count doesn't reach 0\n",
    "del list2  # Due to circular reference\n",
    "\n",
    "# Manually trigger garbage collection\n",
    "gc.collect()  # Cleans up circular references\n",
    "print(\"Garbage collection manually triggered and circular references cleaned up.\")\n",
    "\n",
    "# Re-enable automatic garbage collection\n",
    "gc.enable()\n",
    "print(\"Automatic garbage collection re-enabled.\")"
   ]
  }
 ],
 "metadata": {
  "kernelspec": {
   "display_name": "Python 3",
   "language": "python",
   "name": "python3"
  },
  "language_info": {
   "codemirror_mode": {
    "name": "ipython",
    "version": 3
   },
   "file_extension": ".py",
   "mimetype": "text/x-python",
   "name": "python",
   "nbconvert_exporter": "python",
   "pygments_lexer": "ipython3",
   "version": "3.13.0"
  }
 },
 "nbformat": 4,
 "nbformat_minor": 2
}
